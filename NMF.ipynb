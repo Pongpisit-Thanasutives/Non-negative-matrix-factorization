{
 "cells": [
  {
   "cell_type": "code",
   "execution_count": 1,
   "metadata": {},
   "outputs": [],
   "source": [
    "import numpy as np\n",
    "import pandas as pd\n",
    "\n",
    "import torch\n",
    "from torch import nn\n",
    "import torch.nn.functional as F\n",
    "\n",
    "from tqdm import trange\n",
    "\n",
    "%matplotlib inline\n",
    "import matplotlib.pyplot as plt\n",
    "import seaborn as sns\n",
    "\n",
    "# pip install madgrad\n",
    "from madgrad import MADGRAD\n",
    "\n",
    "# Sklearn's NMF\n",
    "from sklearn.decomposition import NMF as SKNMF"
   ]
  },
  {
   "cell_type": "code",
   "execution_count": 2,
   "metadata": {},
   "outputs": [],
   "source": [
    "class NMF(nn.Module):\n",
    "    def __init__(self, B, N, K, act=torch.tanh):\n",
    "        super(NMF, self).__init__()\n",
    "        self.W = nn.Parameter(torch.distributions.Uniform(0.0, 1.0).sample((B, K))).float()\n",
    "        self.H = nn.Parameter(torch.normal(0, 1, size=(K, N))).float()\n",
    "        self.act = act\n",
    "    def forward(self):\n",
    "        if self.act is not None: return torch.matmul(self.W, self.act(self.H))\n",
    "        return torch.matmul(self.W, self.H)\n",
    "\n",
    "B = 100; N = 10; K = 2\n",
    "Y = torch.rand(B, N)\n",
    "nmf = NMF(B, N, K)"
   ]
  },
  {
   "cell_type": "code",
   "execution_count": 3,
   "metadata": {},
   "outputs": [
    {
     "name": "stderr",
     "output_type": "stream",
     "text": [
      "100%|██████████| 20000/20000 [00:05<00:00, 3786.37it/s]\n"
     ]
    }
   ],
   "source": [
    "optimizer = MADGRAD(nmf.parameters(), lr=1e-2, momentum=0.99)\n",
    "\n",
    "epochs = 20000\n",
    "for i in trange(epochs):\n",
    "    optimizer.zero_grad()\n",
    "    \n",
    "    preds = nmf()\n",
    "    fro = torch.linalg.norm(preds-Y, 'fro')**2\n",
    "    fro.backward()\n",
    "\n",
    "    optimizer.step()\n",
    "    \n",
    "    nmf.W.data = F.relu(nmf.W.data)\n",
    "    nmf.H.data = F.relu(nmf.H.data)"
   ]
  },
  {
   "cell_type": "code",
   "execution_count": 4,
   "metadata": {},
   "outputs": [
    {
     "data": {
      "text/plain": [
       "0.06197834387421608"
      ]
     },
     "execution_count": 4,
     "metadata": {},
     "output_type": "execute_result"
    }
   ],
   "source": [
    "nmf.eval()\n",
    "chk_loss = ((Y-nmf())**2).mean()\n",
    "chk_loss.item()"
   ]
  },
  {
   "cell_type": "markdown",
   "metadata": {},
   "source": [
    "#### Compare the performance with the Sklearn NMF function, giving close optimal solution"
   ]
  },
  {
   "cell_type": "code",
   "execution_count": 5,
   "metadata": {},
   "outputs": [
    {
     "data": {
      "text/plain": [
       "0.06197835689609433"
      ]
     },
     "execution_count": 5,
     "metadata": {},
     "output_type": "execute_result"
    }
   ],
   "source": [
    "model = SKNMF(n_components=2, init='random', random_state=0)\n",
    "W = model.fit_transform(Y.detach().numpy())\n",
    "H = model.components_\n",
    "((W@H-Y.detach().numpy())**2).mean()"
   ]
  },
  {
   "cell_type": "markdown",
   "metadata": {},
   "source": [
    "#### Extracting Gaussian distributions example "
   ]
  },
  {
   "cell_type": "markdown",
   "metadata": {},
   "source": [
    "#### (1) Data generation"
   ]
  },
  {
   "cell_type": "code",
   "execution_count": 6,
   "metadata": {},
   "outputs": [],
   "source": [
    "n_dist = 4\n",
    "n_samples = 1000\n",
    "time_steps = 200\n",
    "\n",
    "dists = []\n",
    "means = []\n",
    "stds = []\n",
    "source_contribs = np.random.uniform(0, 1, size=(n_samples, n_dist))\n",
    "source_contribs = source_contribs/source_contribs.sum(axis=1).reshape(-1, 1)\n",
    "source_profiles = np.zeros((n_dist, time_steps))\n",
    "\n",
    "for i in range(n_dist):\n",
    "    mean = np.random.rand()\n",
    "    std = np.random.rand()\n",
    "    source_profiles[i:i+1, :] = np.random.normal(mean, std, size=(1, time_steps))\n",
    "    source_profiles[source_profiles<0] = 0\n",
    "    \n",
    "    means.append(mean)\n",
    "    stds.append(std)\n",
    "\n",
    "data = source_contribs@source_profiles"
   ]
  },
  {
   "cell_type": "markdown",
   "metadata": {},
   "source": [
    "#### (2) Train the neural NMF model"
   ]
  },
  {
   "cell_type": "code",
   "execution_count": 7,
   "metadata": {},
   "outputs": [
    {
     "data": {
      "text/plain": [
       "(0, 0)"
      ]
     },
     "execution_count": 7,
     "metadata": {},
     "output_type": "execute_result"
    }
   ],
   "source": [
    "np.sum(source_profiles<0), np.sum(source_contribs<0)"
   ]
  },
  {
   "cell_type": "code",
   "execution_count": 8,
   "metadata": {},
   "outputs": [
    {
     "name": "stderr",
     "output_type": "stream",
     "text": [
      "100%|██████████| 10000/10000 [00:12<00:00, 812.71it/s]\n"
     ]
    },
    {
     "data": {
      "text/plain": [
       "tensor(1.2518e-07, grad_fn=<MeanBackward0>)"
      ]
     },
     "execution_count": 8,
     "metadata": {},
     "output_type": "execute_result"
    }
   ],
   "source": [
    "data = torch.tensor(data).float()\n",
    "nmf = NMF(n_samples, time_steps, n_dist, act=None)\n",
    "optimizer = MADGRAD(nmf.parameters(), lr=1e-2, momentum=0.95)\n",
    "\n",
    "epochs = 10000\n",
    "for i in trange(epochs):\n",
    "    optimizer.zero_grad()\n",
    "    \n",
    "    preds = nmf()\n",
    "    fro = torch.linalg.norm(preds-data, 'fro')**2\n",
    "    fro.backward()\n",
    "\n",
    "    optimizer.step()\n",
    "    \n",
    "    nmf.W.data = F.softmax(nmf.W.data, dim=-1)\n",
    "    nmf.H.data = F.relu(nmf.H.data)\n",
    "    \n",
    "nmf.eval()\n",
    "((data-nmf())**2).mean()"
   ]
  },
  {
   "cell_type": "markdown",
   "metadata": {},
   "source": [
    "#### (3) Train Sklearn's NMF model"
   ]
  },
  {
   "cell_type": "code",
   "execution_count": 9,
   "metadata": {},
   "outputs": [],
   "source": [
    "# data = data.detach().numpy()\n",
    "# model = SKNMF(n_components=n_dist, init='random', random_state=0)\n",
    "# W = model.fit_transform(data)\n",
    "# H = model.components_\n",
    "# ((W@H-data)**2).mean()"
   ]
  },
  {
   "cell_type": "markdown",
   "metadata": {},
   "source": [
    "#### (4) Check the learned distributions"
   ]
  },
  {
   "cell_type": "code",
   "execution_count": 10,
   "metadata": {},
   "outputs": [],
   "source": [
    "# plt_data = pd.DataFrame({'g0':H[0, :], 'g1':H[1, :], 'g2':H[2, :], 'g3':H[3, :]})\n",
    "# sns.kdeplot(data=plt_data)\n",
    "# plt.show()"
   ]
  },
  {
   "cell_type": "code",
   "execution_count": 11,
   "metadata": {},
   "outputs": [
    {
     "data": {
      "image/png": "[encoded data removed]",
      "text/plain": [
       "<Figure size 432x288 with 1 Axes>"
      ]
     },
     "metadata": {
      "needs_background": "light"
     },
     "output_type": "display_data"
    }
   ],
   "source": [
    "plt_data = pd.DataFrame({'g0':source_profiles[0, :], 'g1':source_profiles[1, :], 'g2':source_profiles[2, :], 'g3':source_profiles[3, :]})\n",
    "sns.kdeplot(data=plt_data)\n",
    "plt.show()"
   ]
  },
  {
   "cell_type": "code",
   "execution_count": 12,
   "metadata": {},
   "outputs": [
    {
     "data": {
      "image/png": "[encoded data removed]",
      "text/plain": [
       "<Figure size 432x288 with 1 Axes>"
      ]
     },
     "metadata": {
      "needs_background": "light"
     },
     "output_type": "display_data"
    }
   ],
   "source": [
    "nmf_H = nmf.H.detach().numpy()\n",
    "plt_data = pd.DataFrame({'g0':nmf_H[0, :], 'g1':nmf_H[1, :], 'g2':nmf_H[2, :], 'g3':nmf_H[3, :]})\n",
    "sns.kdeplot(data=plt_data)\n",
    "plt.show()"
   ]
  },
  {
   "cell_type": "code",
   "execution_count": 13,
   "metadata": {},
   "outputs": [
    {
     "data": {
      "text/plain": [
       "(array([0.60467658, 0.35093847, 0.3028073 , 0.4330821 ]),\n",
       " array([0.23248526, 0.51975452, 0.39791828, 0.09821334]))"
      ]
     },
     "execution_count": 13,
     "metadata": {},
     "output_type": "execute_result"
    }
   ],
   "source": [
    "source_profiles.mean(axis=1), source_profiles.std(axis=1)"
   ]
  },
  {
   "cell_type": "code",
   "execution_count": 14,
   "metadata": {},
   "outputs": [
    {
     "data": {
      "text/plain": [
       "(array([0.30321258, 0.42639947, 0.6120168 , 0.3512951 ], dtype=float32),\n",
       " array([0.39782694, 0.14055732, 0.2487584 , 0.5199524 ], dtype=float32))"
      ]
     },
     "execution_count": 14,
     "metadata": {},
     "output_type": "execute_result"
    }
   ],
   "source": [
    "nmf_H.mean(axis=1), nmf_H.std(axis=1)"
   ]
  },
  {
   "cell_type": "code",
   "execution_count": null,
   "metadata": {},
   "outputs": [],
   "source": []
  }
 ],
 "metadata": {
  "kernelspec": {
   "display_name": "Python 3",
   "language": "python",
   "name": "python3"
  },
  "language_info": {
   "codemirror_mode": {
    "name": "ipython",
    "version": 3
   },
   "file_extension": ".py",
   "mimetype": "text/x-python",
   "name": "python",
   "nbconvert_exporter": "python",
   "pygments_lexer": "ipython3",
   "version": "3.9.5"
  }
 },
 "nbformat": 4,
 "nbformat_minor": 4
}
