{
 "cells": [
  {
   "cell_type": "code",
   "execution_count": 1,
   "metadata": {},
   "outputs": [],
   "source": [
    "# I am using Pytorch BTW.\n",
    "import torch\n",
    "from torch import nn\n",
    "import torch.nn.functional as F\n",
    "\n",
    "from tqdm import trange\n",
    "\n",
    "%matplotlib inline\n",
    "import matplotlib.pyplot as plt\n",
    "\n",
    "# pip install madgrad\n",
    "from madgrad import MADGRAD\n",
    "from pcgrad import PCGrad"
   ]
  },
  {
   "cell_type": "code",
   "execution_count": 2,
   "metadata": {},
   "outputs": [],
   "source": [
    "class NMF(nn.Module):\n",
    "    def __init__(self, B, N, K):\n",
    "        super(NMF, self).__init__()\n",
    "        self.W = nn.Parameter(torch.rand(B, K, requires_grad=True, dtype=torch.float32))\n",
    "        self.H = nn.Parameter(torch.rand(K, N, requires_grad=True, dtype=torch.float32))\n",
    "    def forward(self):\n",
    "        return torch.matmul(torch.tanh(self.W), self.H)\n",
    "\n",
    "B = 100; N = 10; K = 2\n",
    "Y = torch.rand(B, N)\n",
    "nmf = NMF(B, N, K)"
   ]
  },
  {
   "cell_type": "code",
   "execution_count": null,
   "metadata": {},
   "outputs": [
    {
     "name": "stderr",
     "output_type": "stream",
     "text": [
      " 51%|█████     | 10108/20000 [00:08<00:08, 1197.95it/s]"
     ]
    }
   ],
   "source": [
    "optimizer = PCGrad(MADGRAD(nmf.parameters(), lr=1e-3, momentum=0.9))\n",
    "\n",
    "l1loss = nn.L1Loss()\n",
    "\n",
    "relu_func = nn.Threshold(0.0, 0.0)\n",
    "\n",
    "epochs = 20000\n",
    "for i in trange(epochs):\n",
    "    optimizer.zero_grad()\n",
    "    \n",
    "    preds = nmf()\n",
    "    l1 = l1loss(preds, Y)\n",
    "    fro = torch.linalg.norm(preds-Y, 'fro')\n",
    "    losses = [fro, l1]\n",
    "    \n",
    "    optimizer.pc_backward(losses)    \n",
    "    optimizer.step()\n",
    "    \n",
    "    nmf.W.data = relu_func(nmf.W.data)\n",
    "    nmf.H.data = relu_func(nmf.H.data)"
   ]
  },
  {
   "cell_type": "code",
   "execution_count": null,
   "metadata": {},
   "outputs": [],
   "source": [
    "nmf.eval()\n",
    "chk_loss = ((Y-nmf())**2).mean()\n",
    "chk_loss.item()"
   ]
  },
  {
   "cell_type": "markdown",
   "metadata": {},
   "source": [
    "#### Compare the performance with the Sklearn NMF function, giving close optimal solution"
   ]
  },
  {
   "cell_type": "code",
   "execution_count": null,
   "metadata": {},
   "outputs": [],
   "source": [
    "from sklearn.decomposition import NMF"
   ]
  },
  {
   "cell_type": "code",
   "execution_count": null,
   "metadata": {},
   "outputs": [],
   "source": [
    "model = NMF(n_components=2, init='random', random_state=0)\n",
    "W = model.fit_transform(Y.detach().numpy())\n",
    "H = model.components_"
   ]
  },
  {
   "cell_type": "code",
   "execution_count": null,
   "metadata": {},
   "outputs": [],
   "source": [
    "((W@H-Y.detach().numpy())**2).mean()"
   ]
  },
  {
   "cell_type": "code",
   "execution_count": null,
   "metadata": {},
   "outputs": [],
   "source": []
  }
 ],
 "metadata": {
  "kernelspec": {
   "display_name": "Python 3",
   "language": "python",
   "name": "python3"
  },
  "language_info": {
   "codemirror_mode": {
    "name": "ipython",
    "version": 3
   },
   "file_extension": ".py",
   "mimetype": "text/x-python",
   "name": "python",
   "nbconvert_exporter": "python",
   "pygments_lexer": "ipython3",
   "version": "3.9.5"
  }
 },
 "nbformat": 4,
 "nbformat_minor": 4
}
