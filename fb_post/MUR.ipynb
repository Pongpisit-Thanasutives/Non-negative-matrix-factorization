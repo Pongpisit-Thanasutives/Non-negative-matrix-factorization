{
 "cells": [
  {
   "cell_type": "code",
   "execution_count": 1,
   "metadata": {},
   "outputs": [],
   "source": [
    "import numpy as np\n",
    "from tqdm import trange\n",
    "\n",
    "X = np.random.rand(100, 100)"
   ]
  },
  {
   "cell_type": "code",
   "execution_count": 2,
   "metadata": {},
   "outputs": [],
   "source": [
    "def fro(arr): return np.linalg.norm(arr, 'fro')\n",
    "\n",
    "def mur(X, h_states, maxit=1e5):\n",
    "    row, col = X.shape\n",
    "    W = np.random.rand(row, h_states)\n",
    "    H = np.random.rand(h_states, col)\n",
    "    \n",
    "    now_loss = 1e6\n",
    "    ans_W = None\n",
    "    ans_H = None\n",
    "    \n",
    "    for i in trange(int(maxit)):\n",
    "        preds = W@H\n",
    "        \n",
    "        loss = fro(X-preds)\n",
    "        if loss < now_loss:\n",
    "            now_loss = loss\n",
    "            ans_W = W\n",
    "            ans_H = H\n",
    "\n",
    "        W = W * np.divide(X@H.T, preds@H.T)\n",
    "        H = H * np.divide(W.T@X, W.T@preds)\n",
    "\n",
    "    return ans_W, ans_H"
   ]
  },
  {
   "cell_type": "code",
   "execution_count": 3,
   "metadata": {},
   "outputs": [
    {
     "name": "stderr",
     "output_type": "stream",
     "text": [
      "100%|██████████| 100000/100000 [00:17<00:00, 5577.73it/s]\n"
     ]
    },
    {
     "data": {
      "text/plain": [
       "0.14509217470384472"
      ]
     },
     "execution_count": 3,
     "metadata": {},
     "output_type": "execute_result"
    }
   ],
   "source": [
    "W, H = mur(X, 4)\n",
    "((X-W@H)**2).mean()"
   ]
  },
  {
   "cell_type": "code",
   "execution_count": 4,
   "metadata": {},
   "outputs": [
    {
     "data": {
      "text/plain": [
       "0.0720395629923339"
      ]
     },
     "execution_count": 4,
     "metadata": {},
     "output_type": "execute_result"
    }
   ],
   "source": [
    "from sklearn.decomposition import NMF\n",
    "model = NMF(n_components=4, init='random', random_state=0)\n",
    "W = model.fit_transform(X)\n",
    "H = model.components_\n",
    "((X-W@H)**2).mean()"
   ]
  },
  {
   "cell_type": "code",
   "execution_count": null,
   "metadata": {},
   "outputs": [],
   "source": []
  }
 ],
 "metadata": {
  "kernelspec": {
   "display_name": "Python 3",
   "language": "python",
   "name": "python3"
  },
  "language_info": {
   "codemirror_mode": {
    "name": "ipython",
    "version": 3
   },
   "file_extension": ".py",
   "mimetype": "text/x-python",
   "name": "python",
   "nbconvert_exporter": "python",
   "pygments_lexer": "ipython3",
   "version": "3.9.5"
  }
 },
 "nbformat": 4,
 "nbformat_minor": 4
}
